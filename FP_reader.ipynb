{
 "cells": [
  {
   "cell_type": "code",
   "execution_count": 1,
   "metadata": {},
   "outputs": [
    {
     "name": "stdout",
     "output_type": "stream",
     "text": [
      "Collecting pandas\n",
      "  Using cached pandas-2.2.2-cp312-cp312-macosx_11_0_arm64.whl.metadata (19 kB)\n",
      "Collecting numpy>=1.26.0 (from pandas)\n",
      "  Using cached numpy-1.26.4-cp312-cp312-macosx_11_0_arm64.whl.metadata (61 kB)\n",
      "Requirement already satisfied: python-dateutil>=2.8.2 in ./.venv/lib/python3.12/site-packages (from pandas) (2.9.0.post0)\n",
      "Collecting pytz>=2020.1 (from pandas)\n",
      "  Using cached pytz-2024.1-py2.py3-none-any.whl.metadata (22 kB)\n",
      "Collecting tzdata>=2022.7 (from pandas)\n",
      "  Using cached tzdata-2024.1-py2.py3-none-any.whl.metadata (1.4 kB)\n",
      "Requirement already satisfied: six>=1.5 in ./.venv/lib/python3.12/site-packages (from python-dateutil>=2.8.2->pandas) (1.16.0)\n",
      "Using cached pandas-2.2.2-cp312-cp312-macosx_11_0_arm64.whl (11.3 MB)\n",
      "Using cached numpy-1.26.4-cp312-cp312-macosx_11_0_arm64.whl (13.7 MB)\n",
      "Using cached pytz-2024.1-py2.py3-none-any.whl (505 kB)\n",
      "Using cached tzdata-2024.1-py2.py3-none-any.whl (345 kB)\n",
      "Installing collected packages: pytz, tzdata, numpy, pandas\n",
      "Successfully installed numpy-1.26.4 pandas-2.2.2 pytz-2024.1 tzdata-2024.1\n",
      "Requirement already satisfied: nest_asyncio in ./.venv/lib/python3.12/site-packages (1.6.0)\n"
     ]
    }
   ],
   "source": [
    "!pip install pandas\n",
    "!pip install nest_asyncio"
   ]
  },
  {
   "cell_type": "code",
   "execution_count": 8,
   "metadata": {},
   "outputs": [
    {
     "name": "stdout",
     "output_type": "stream",
     "text": [
      "                TASK  FREQUENCY       CMD                                                                                 CODE\n",
      "0     Enable MPU6050        0.0  tc;mpu;1   subprocess.run(['python', 'enable_mpu.py'], capture_output=True, text=True).stdout\n",
      "1         Enable GPS        0.0  tc;gps;1   subprocess.run(['python', 'enable_gps.py'], capture_output=True, text=True).stdout\n",
      "2         Enable BMP        0.0  tc;bmp;1   subprocess.run(['python', 'enable_bmp.py'], capture_output=True, text=True).stdout\n",
      "3         Enable MCP        0.0  tc;mcp;1   subprocess.run(['python', 'enable_mcp.py'], capture_output=True, text=True).stdout\n",
      "4    Disable MPU6050        0.0  tc;mpu;0  subprocess.run(['python', 'disable_mpu.py'], capture_output=True, text=True).stdout\n",
      "5        Disable GPS        0.0  tc;gps;0  subprocess.run(['python', 'disable_gps.py'], capture_output=True, text=True).stdout\n",
      "6        Disable BMP        0.0  tc;bmp;0  subprocess.run(['python', 'disable_bmp.py'], capture_output=True, text=True).stdout\n",
      "7        Disable MCP        0.0  tc;mcp;0  subprocess.run(['python', 'disable_mcp.py'], capture_output=True, text=True).stdout\n",
      "8   get acc,gyro MPU        0.1  tm;mpu;2       subprocess.run(['python', 'tm_mpu.py'], capture_output=True, text=True).stdout\n",
      "9    get lat,lon GPS        5.0  tm;gps;2       subprocess.run(['python', 'tm_gps.py'], capture_output=True, text=True).stdout\n",
      "10  get pressure BMP        1.0  tm;bmp;2       subprocess.run(['python', 'tm_bmp.py'], capture_output=True, text=True).stdout\n",
      "11      get temp MCP        1.0  tm;mcp;2       subprocess.run(['python', 'tm_mcp.py'], capture_output=True, text=True).stdout\n"
     ]
    }
   ],
   "source": [
    "import pandas as pd\n",
    "import subprocess\n",
    "import time\n",
    "import nest_asyncio\n",
    "import asyncio\n",
    "df = pd.read_csv(\"./fp.csv\")\n",
    "nest_asyncio.apply()\n",
    "print(df.to_string())"
   ]
  },
  {
   "cell_type": "code",
   "execution_count": 9,
   "metadata": {},
   "outputs": [
    {
     "name": "stdout",
     "output_type": "stream",
     "text": [
      "Enable MPU6050\n"
     ]
    }
   ],
   "source": [
    "def CMD2TASK(cmd):\n",
    "    mapping = dict(zip(df['CMD'], df['TASK']))\n",
    "    return mapping.get(cmd, \"Task not found\")\n",
    "def CMD2CODE(cmd):\n",
    "    mapping = dict(zip(df['CMD'], df['CODE']))\n",
    "    return eval(mapping.get(cmd, \"Code not found\"))\n",
    "\n",
    "print(CMD2TASK(\"tc;mpu;1\"))"
   ]
  },
  {
   "attachments": {},
   "cell_type": "markdown",
   "metadata": {},
   "source": [
    "## FSW"
   ]
  },
  {
   "attachments": {},
   "cell_type": "markdown",
   "metadata": {},
   "source": [
    "#### TEST1 (AT GROND CONTROL)"
   ]
  },
  {
   "cell_type": "code",
   "execution_count": 10,
   "metadata": {},
   "outputs": [
    {
     "data": {
      "text/plain": [
       "'get lat,lon GPS\\n'"
      ]
     },
     "execution_count": 10,
     "metadata": {},
     "output_type": "execute_result"
    }
   ],
   "source": [
    "CMD2CODE('tm;mpu;2')\n",
    "CMD2CODE('tm;bmp;2')\n",
    "CMD2CODE('tm;mcp;2')\n",
    "CMD2CODE('tm;gps;2')"
   ]
  },
  {
   "attachments": {},
   "cell_type": "markdown",
   "metadata": {},
   "source": [
    "#### TEST2 (AT ROCKET BASE)"
   ]
  },
  {
   "cell_type": "code",
   "execution_count": 12,
   "metadata": {},
   "outputs": [
    {
     "data": {
      "text/plain": [
       "'mpu\\n'"
      ]
     },
     "execution_count": 12,
     "metadata": {},
     "output_type": "execute_result"
    }
   ],
   "source": []
  },
  {
   "attachments": {},
   "cell_type": "markdown",
   "metadata": {},
   "source": [
    "#### LUNCH"
   ]
  },
  {
   "cell_type": "code",
   "execution_count": 15,
   "metadata": {},
   "outputs": [
    {
     "name": "stdout",
     "output_type": "stream",
     "text": [
      "Executing tm;mpu;2\n",
      "Executing tm;bmp;2\n",
      "Executing tm;mcp;2\n",
      "Executing tm;gps;2\n",
      "mpu\n",
      "\n",
      "bmp\n",
      "\n",
      "mcp\n",
      "\n",
      "get lat,lon GPS\n",
      "\n",
      "Executing tm;mpu;2\n",
      "mpu\n",
      "\n",
      "Executing tm;mpu;2\n",
      "mpu\n",
      "\n",
      "Executing tm;mpu;2\n",
      "mpu\n",
      "\n",
      "Executing tm;mpu;2\n",
      "mpu\n",
      "\n",
      "Executing tm;mpu;2\n",
      "Executing tm;bmp;2\n",
      "Executing tm;mcp;2\n",
      "mpu\n",
      "\n",
      "bmp\n",
      "\n",
      "mcp\n",
      "\n",
      "Executing tm;mpu;2\n",
      "mpu\n",
      "\n",
      "Executing tm;mpu;2\n",
      "mpu\n",
      "\n",
      "Executing tm;mpu;2\n",
      "mpu\n",
      "\n",
      "Executing tm;mpu;2\n",
      "mpu\n",
      "\n",
      "Executing tm;mpu;2\n",
      "Executing tm;bmp;2\n",
      "Executing tm;mcp;2\n",
      "mpu\n",
      "\n",
      "bmp\n",
      "\n",
      "mcp\n",
      "\n",
      "Executing tm;mpu;2\n",
      "mpu\n",
      "\n",
      "Executing tm;mpu;2\n",
      "mpu\n",
      "\n",
      "Executing tm;mpu;2\n",
      "mpu\n",
      "\n",
      "Executing tm;mpu;2\n",
      "mpu\n",
      "\n",
      "Executing tm;bmp;2\n",
      "Executing tm;mpu;2\n",
      "Executing tm;mcp;2\n",
      "bmp\n",
      "\n",
      "mpu\n",
      "\n",
      "mcp\n",
      "\n",
      "Executing tm;mpu;2\n",
      "mpu\n",
      "\n",
      "Executing tm;mpu;2\n",
      "mpu\n",
      "\n",
      "Executing tm;mpu;2\n",
      "mpu\n",
      "\n",
      "Executing tm;mpu;2\n",
      "mpu\n",
      "\n",
      "Executing tm;bmp;2\n",
      "Executing tm;mcp;2\n",
      "Executing tm;mpu;2\n",
      "bmp\n",
      "\n",
      "mcp\n",
      "\n",
      "mpu\n",
      "\n",
      "Executing tm;mpu;2\n",
      "mpu\n",
      "\n",
      "Executing tm;mpu;2\n",
      "Executing tm;gps;2\n",
      "mpu\n",
      "\n",
      "get lat,lon GPS\n",
      "\n",
      "Executing tm;mpu;2\n",
      "mpu\n",
      "\n",
      "Executing tm;mpu;2\n",
      "mpu\n",
      "\n",
      "Executing tm;bmp;2\n",
      "Executing tm;mcp;2\n",
      "Executing tm;mpu;2\n",
      "bmp\n",
      "\n",
      "mcp\n",
      "\n",
      "mpu\n",
      "\n",
      "Executing tm;mpu;2\n",
      "mpu\n",
      "\n",
      "Executing tm;mpu;2\n",
      "mpu\n",
      "\n",
      "Executing tm;mpu;2\n",
      "mpu\n",
      "\n",
      "Executing tm;mpu;2\n",
      "mpu\n",
      "\n",
      "Executing tm;bmp;2\n",
      "Executing tm;mcp;2\n",
      "Executing tm;mpu;2\n",
      "bmp\n",
      "\n",
      "mcp\n",
      "\n",
      "mpu\n",
      "\n",
      "Executing tm;mpu;2\n",
      "mpu\n",
      "\n",
      "Executing tm;mpu;2\n",
      "mpu\n",
      "\n"
     ]
    },
    {
     "ename": "CancelledError",
     "evalue": "",
     "output_type": "error",
     "traceback": [
      "\u001b[0;31m---------------------------------------------------------------------------\u001b[0m",
      "\u001b[0;31mCancelledError\u001b[0m                            Traceback (most recent call last)",
      "Cell \u001b[0;32mIn[15], line 29\u001b[0m\n\u001b[1;32m     21\u001b[0m     tasks \u001b[39m=\u001b[39m [\n\u001b[1;32m     22\u001b[0m         execute_task(\u001b[39m'\u001b[39m\u001b[39mtm;mpu;2\u001b[39m\u001b[39m'\u001b[39m),\n\u001b[1;32m     23\u001b[0m         execute_task(\u001b[39m'\u001b[39m\u001b[39mtm;bmp;2\u001b[39m\u001b[39m'\u001b[39m),\n\u001b[1;32m     24\u001b[0m         execute_task(\u001b[39m'\u001b[39m\u001b[39mtm;mcp;2\u001b[39m\u001b[39m'\u001b[39m),\n\u001b[1;32m     25\u001b[0m         execute_task(\u001b[39m'\u001b[39m\u001b[39mtm;gps;2\u001b[39m\u001b[39m'\u001b[39m)\n\u001b[1;32m     26\u001b[0m     ]\n\u001b[1;32m     27\u001b[0m     \u001b[39mawait\u001b[39;00m asyncio\u001b[39m.\u001b[39mgather(\u001b[39m*\u001b[39mtasks)\n\u001b[0;32m---> 29\u001b[0m \u001b[39mawait\u001b[39;00m main()\n",
      "Cell \u001b[0;32mIn[15], line 27\u001b[0m, in \u001b[0;36mmain\u001b[0;34m()\u001b[0m\n\u001b[1;32m     20\u001b[0m \u001b[39masync\u001b[39;00m \u001b[39mdef\u001b[39;00m \u001b[39mmain\u001b[39m():\n\u001b[1;32m     21\u001b[0m     tasks \u001b[39m=\u001b[39m [\n\u001b[1;32m     22\u001b[0m         execute_task(\u001b[39m'\u001b[39m\u001b[39mtm;mpu;2\u001b[39m\u001b[39m'\u001b[39m),\n\u001b[1;32m     23\u001b[0m         execute_task(\u001b[39m'\u001b[39m\u001b[39mtm;bmp;2\u001b[39m\u001b[39m'\u001b[39m),\n\u001b[1;32m     24\u001b[0m         execute_task(\u001b[39m'\u001b[39m\u001b[39mtm;mcp;2\u001b[39m\u001b[39m'\u001b[39m),\n\u001b[1;32m     25\u001b[0m         execute_task(\u001b[39m'\u001b[39m\u001b[39mtm;gps;2\u001b[39m\u001b[39m'\u001b[39m)\n\u001b[1;32m     26\u001b[0m     ]\n\u001b[0;32m---> 27\u001b[0m     \u001b[39mawait\u001b[39;00m asyncio\u001b[39m.\u001b[39mgather(\u001b[39m*\u001b[39mtasks)\n",
      "File \u001b[0;32m/Library/Frameworks/Python.framework/Versions/3.12/lib/python3.12/asyncio/tasks.py:385\u001b[0m, in \u001b[0;36mTask.__wakeup\u001b[0;34m(self, future)\u001b[0m\n\u001b[1;32m    383\u001b[0m \u001b[39mdef\u001b[39;00m \u001b[39m__wakeup\u001b[39m(\u001b[39mself\u001b[39m, future):\n\u001b[1;32m    384\u001b[0m     \u001b[39mtry\u001b[39;00m:\n\u001b[0;32m--> 385\u001b[0m         future\u001b[39m.\u001b[39;49mresult()\n\u001b[1;32m    386\u001b[0m     \u001b[39mexcept\u001b[39;00m \u001b[39mBaseException\u001b[39;00m \u001b[39mas\u001b[39;00m exc:\n\u001b[1;32m    387\u001b[0m         \u001b[39m# This may also be a cancellation.\u001b[39;00m\n\u001b[1;32m    388\u001b[0m         \u001b[39mself\u001b[39m\u001b[39m.\u001b[39m__step(exc)\n",
      "File \u001b[0;32m/Library/Frameworks/Python.framework/Versions/3.12/lib/python3.12/asyncio/tasks.py:316\u001b[0m, in \u001b[0;36mTask.__step_run_and_handle_result\u001b[0;34m(***failed resolving arguments***)\u001b[0m\n\u001b[1;32m    314\u001b[0m         result \u001b[39m=\u001b[39m coro\u001b[39m.\u001b[39msend(\u001b[39mNone\u001b[39;00m)\n\u001b[1;32m    315\u001b[0m     \u001b[39melse\u001b[39;00m:\n\u001b[0;32m--> 316\u001b[0m         result \u001b[39m=\u001b[39m coro\u001b[39m.\u001b[39;49mthrow(exc)\n\u001b[1;32m    317\u001b[0m \u001b[39mexcept\u001b[39;00m \u001b[39mStopIteration\u001b[39;00m \u001b[39mas\u001b[39;00m exc:\n\u001b[1;32m    318\u001b[0m     \u001b[39mif\u001b[39;00m \u001b[39mself\u001b[39m\u001b[39m.\u001b[39m_must_cancel:\n\u001b[1;32m    319\u001b[0m         \u001b[39m# Task is cancelled right before coro stops.\u001b[39;00m\n",
      "Cell \u001b[0;32mIn[15], line 18\u001b[0m, in \u001b[0;36mexecute_task\u001b[0;34m(cmd)\u001b[0m\n\u001b[1;32m     16\u001b[0m code \u001b[39m=\u001b[39m CMD2CODE(cmd)\n\u001b[1;32m     17\u001b[0m \u001b[39mprint\u001b[39m(code)\n\u001b[0;32m---> 18\u001b[0m \u001b[39mawait\u001b[39;00m asyncio\u001b[39m.\u001b[39msleep(CMD2FREQ(cmd))\n",
      "File \u001b[0;32m/Library/Frameworks/Python.framework/Versions/3.12/lib/python3.12/asyncio/tasks.py:665\u001b[0m, in \u001b[0;36msleep\u001b[0;34m(delay, result)\u001b[0m\n\u001b[1;32m    661\u001b[0m h \u001b[39m=\u001b[39m loop\u001b[39m.\u001b[39mcall_later(delay,\n\u001b[1;32m    662\u001b[0m                     futures\u001b[39m.\u001b[39m_set_result_unless_cancelled,\n\u001b[1;32m    663\u001b[0m                     future, result)\n\u001b[1;32m    664\u001b[0m \u001b[39mtry\u001b[39;00m:\n\u001b[0;32m--> 665\u001b[0m     \u001b[39mreturn\u001b[39;00m \u001b[39mawait\u001b[39;00m future\n\u001b[1;32m    666\u001b[0m \u001b[39mfinally\u001b[39;00m:\n\u001b[1;32m    667\u001b[0m     h\u001b[39m.\u001b[39mcancel()\n",
      "File \u001b[0;32m/Library/Frameworks/Python.framework/Versions/3.12/lib/python3.12/asyncio/futures.py:287\u001b[0m, in \u001b[0;36mFuture.__await__\u001b[0;34m(self)\u001b[0m\n\u001b[1;32m    285\u001b[0m \u001b[39mif\u001b[39;00m \u001b[39mnot\u001b[39;00m \u001b[39mself\u001b[39m\u001b[39m.\u001b[39mdone():\n\u001b[1;32m    286\u001b[0m     \u001b[39mself\u001b[39m\u001b[39m.\u001b[39m_asyncio_future_blocking \u001b[39m=\u001b[39m \u001b[39mTrue\u001b[39;00m\n\u001b[0;32m--> 287\u001b[0m     \u001b[39myield\u001b[39;00m \u001b[39mself\u001b[39m  \u001b[39m# This tells Task to wait for completion.\u001b[39;00m\n\u001b[1;32m    288\u001b[0m \u001b[39mif\u001b[39;00m \u001b[39mnot\u001b[39;00m \u001b[39mself\u001b[39m\u001b[39m.\u001b[39mdone():\n\u001b[1;32m    289\u001b[0m     \u001b[39mraise\u001b[39;00m \u001b[39mRuntimeError\u001b[39;00m(\u001b[39m\"\u001b[39m\u001b[39mawait wasn\u001b[39m\u001b[39m'\u001b[39m\u001b[39mt used with future\u001b[39m\u001b[39m\"\u001b[39m)\n",
      "\u001b[0;31mCancelledError\u001b[0m: "
     ]
    }
   ],
   "source": [
    "async def CODE(cmd):\n",
    "    print(f\"Executing {cmd}\")\n",
    "    await asyncio.sleep(0.1)\n",
    "\n",
    "def CMD2FREQ(cmd):\n",
    "    return {\n",
    "        'tm;mpu;2': 0.1,\n",
    "        'tm;bmp;2': 1,\n",
    "        'tm;mcp;2': 1,\n",
    "        'tm;gps;2': 5\n",
    "    }[cmd]\n",
    "\n",
    "async def execute_task(cmd):\n",
    "    while True:\n",
    "        await CODE(cmd)\n",
    "        code = CMD2CODE(cmd)\n",
    "        print(code)\n",
    "        await asyncio.sleep(CMD2FREQ(cmd))\n",
    "\n",
    "async def main():\n",
    "    tasks = [\n",
    "        execute_task('tm;mpu;2'),\n",
    "        execute_task('tm;bmp;2'),\n",
    "        execute_task('tm;mcp;2'),\n",
    "        execute_task('tm;gps;2')\n",
    "    ]\n",
    "    await asyncio.gather(*tasks)\n",
    "\n",
    "await main()"
   ]
  },
  {
   "attachments": {},
   "cell_type": "markdown",
   "metadata": {},
   "source": [
    "#### EJECT"
   ]
  },
  {
   "cell_type": "code",
   "execution_count": 7,
   "metadata": {},
   "outputs": [],
   "source": []
  },
  {
   "attachments": {},
   "cell_type": "markdown",
   "metadata": {},
   "source": [
    "#### GROUND"
   ]
  },
  {
   "cell_type": "code",
   "execution_count": null,
   "metadata": {},
   "outputs": [],
   "source": []
  }
 ],
 "metadata": {
  "kernelspec": {
   "display_name": "CANSAT_FSW",
   "language": "python",
   "name": "python3"
  },
  "language_info": {
   "codemirror_mode": {
    "name": "ipython",
    "version": 3
   },
   "file_extension": ".py",
   "mimetype": "text/x-python",
   "name": "python",
   "nbconvert_exporter": "python",
   "pygments_lexer": "ipython3",
   "version": "3.12.3"
  }
 },
 "nbformat": 4,
 "nbformat_minor": 2
}
