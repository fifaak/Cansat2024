{
 "cells": [
  {
   "cell_type": "code",
   "execution_count": 24,
   "metadata": {},
   "outputs": [
    {
     "name": "stdout",
     "output_type": "stream",
     "text": [
      "Requirement already satisfied: pandas in c:\\users\\tever\\appdata\\local\\programs\\python\\python312\\lib\\site-packages (2.2.2)\n",
      "Requirement already satisfied: numpy>=1.26.0 in c:\\users\\tever\\appdata\\local\\programs\\python\\python312\\lib\\site-packages (from pandas) (1.26.4)\n",
      "Requirement already satisfied: python-dateutil>=2.8.2 in c:\\users\\tever\\appdata\\roaming\\python\\python312\\site-packages (from pandas) (2.9.0.post0)\n",
      "Requirement already satisfied: pytz>=2020.1 in c:\\users\\tever\\appdata\\local\\programs\\python\\python312\\lib\\site-packages (from pandas) (2024.1)\n",
      "Requirement already satisfied: tzdata>=2022.7 in c:\\users\\tever\\appdata\\local\\programs\\python\\python312\\lib\\site-packages (from pandas) (2024.1)\n",
      "Requirement already satisfied: six>=1.5 in c:\\users\\tever\\appdata\\roaming\\python\\python312\\site-packages (from python-dateutil>=2.8.2->pandas) (1.16.0)\n"
     ]
    }
   ],
   "source": [
    "!pip install pandas"
   ]
  },
  {
   "cell_type": "code",
   "execution_count": 222,
   "metadata": {},
   "outputs": [
    {
     "name": "stdout",
     "output_type": "stream",
     "text": [
      "                TASK  FREQUENCY       CMD                                                                                 CODE\n",
      "0     Enable MPU6050        0.0  tc;mpu;1   subprocess.run(['python', 'enable_mpu.py'], capture_output=True, text=True).stdout\n",
      "1         Enable GPS        0.0  tc;gps;1   subprocess.run(['python', 'enable_gps.py'], capture_output=True, text=True).stdout\n",
      "2         Enable BMP        0.0  tc;bmp;1   subprocess.run(['python', 'enable_bmp.py'], capture_output=True, text=True).stdout\n",
      "3         Enable MCP        0.0  tc;mcp;1   subprocess.run(['python', 'enable_mcp.py'], capture_output=True, text=True).stdout\n",
      "4    Disable MPU6050        0.0  tc;mpu;0  subprocess.run(['python', 'disable_mpu.py'], capture_output=True, text=True).stdout\n",
      "5        Disable GPS        0.0  tc;gps;0  subprocess.run(['python', 'disable_gps.py'], capture_output=True, text=True).stdout\n",
      "6        Disable BMP        0.0  tc;gps;0  subprocess.run(['python', 'disable_bmp.py'], capture_output=True, text=True).stdout\n",
      "7        Disable MCP        0.0  tc;mcp;0  subprocess.run(['python', 'disable_mcp.py'], capture_output=True, text=True).stdout\n",
      "8   get acc,gyro MPU        0.1  tm;mpu;2       subprocess.run(['python', 'tm_mpu.py'], capture_output=True, text=True).stdout\n",
      "9    get lat,lon GPS        5.0  tm;gps;2       subprocess.run(['python', 'tm_gps.py'], capture_output=True, text=True).stdout\n",
      "10  get pressure BMP        1.0  tm;bmp;2       subprocess.run(['python', 'tm_bmp.py'], capture_output=True, text=True).stdout\n",
      "11      get temp MCP        1.0  tm;mcp;2       subprocess.run(['python', 'tm_mcp.py'], capture_output=True, text=True).stdout\n"
     ]
    }
   ],
   "source": [
    "import pandas as pd\n",
    "import subprocess\n",
    "df = pd.read_csv(\"./fp.csv\")\n",
    "print(df.to_string())"
   ]
  },
  {
   "cell_type": "code",
   "execution_count": 223,
   "metadata": {},
   "outputs": [
    {
     "name": "stdout",
     "output_type": "stream",
     "text": [
      "Enable MPU6050\n"
     ]
    }
   ],
   "source": [
    "def CMD2TASK(cmd):\n",
    "    mapping = dict(zip(df['CMD'], df['TASK']))\n",
    "    return mapping.get(cmd, \"Task not found\")\n",
    "def CMD2CODE(cmd):\n",
    "    mapping = dict(zip(df['CMD'], df['CODE']))\n",
    "    return eval(mapping.get(cmd, \"Code not found\"))\n",
    "\n",
    "print(CMD2TASK(\"tc;mpu;1\"))\n"
   ]
  },
  {
   "cell_type": "markdown",
   "metadata": {},
   "source": [
    "## FSW"
   ]
  },
  {
   "cell_type": "markdown",
   "metadata": {},
   "source": [
    "#### TEST1 (AT GROND CONTROL)"
   ]
  },
  {
   "cell_type": "code",
   "execution_count": 233,
   "metadata": {},
   "outputs": [
    {
     "data": {
      "text/plain": [
       "'get temp MCP\\n'"
      ]
     },
     "execution_count": 233,
     "metadata": {},
     "output_type": "execute_result"
    }
   ],
   "source": [
    "# CMD2CODE('tc;mpu;1') #Enable mpu\n",
    "# CMD2CODE('tm;mpu;2') #Get telemetry from mpu\n",
    "\n",
    "# CMD2CODE('tc;gps;1') #Enable GPS\n",
    "# CMD2CODE('tm;gps;2') #Get telemetry from GPS\n",
    "\n",
    "# CMD2CODE('tc;bmp;1') #Enable BMP\n",
    "# CMD2CODE('tm;bmp;2') #Get telemetry from BMP\n",
    "\n",
    "# CMD2CODE('tc;mcp;1') #Enable MCP\n",
    "# CMD2CODE('tm;mcp;2') #Get telemetry from MCP"
   ]
  },
  {
   "cell_type": "markdown",
   "metadata": {},
   "source": [
    "#### TEST2 (AT ROCKET BASE)"
   ]
  },
  {
   "cell_type": "code",
   "execution_count": null,
   "metadata": {},
   "outputs": [],
   "source": []
  },
  {
   "cell_type": "markdown",
   "metadata": {},
   "source": [
    "#### LUNCH"
   ]
  },
  {
   "cell_type": "code",
   "execution_count": null,
   "metadata": {},
   "outputs": [],
   "source": []
  },
  {
   "cell_type": "markdown",
   "metadata": {},
   "source": [
    "#### EJECT"
   ]
  },
  {
   "cell_type": "code",
   "execution_count": null,
   "metadata": {},
   "outputs": [],
   "source": []
  },
  {
   "cell_type": "markdown",
   "metadata": {},
   "source": [
    "#### GROUND"
   ]
  },
  {
   "cell_type": "code",
   "execution_count": null,
   "metadata": {},
   "outputs": [],
   "source": []
  }
 ],
 "metadata": {
  "kernelspec": {
   "display_name": "CANSAT_FSW",
   "language": "python",
   "name": "python3"
  },
  "language_info": {
   "codemirror_mode": {
    "name": "ipython",
    "version": 3
   },
   "file_extension": ".py",
   "mimetype": "text/x-python",
   "name": "python",
   "nbconvert_exporter": "python",
   "pygments_lexer": "ipython3",
   "version": "3.12.3"
  }
 },
 "nbformat": 4,
 "nbformat_minor": 2
}
