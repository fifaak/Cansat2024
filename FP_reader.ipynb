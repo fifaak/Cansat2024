{
 "cells": [
  {
   "cell_type": "code",
   "execution_count": 1,
   "metadata": {},
   "outputs": [
    {
     "name": "stdout",
     "output_type": "stream",
     "text": [
      "Requirement already satisfied: pandas in c:\\users\\tever\\appdata\\local\\programs\\python\\python312\\lib\\site-packages (2.2.2)\n",
      "Requirement already satisfied: numpy>=1.26.0 in c:\\users\\tever\\appdata\\local\\programs\\python\\python312\\lib\\site-packages (from pandas) (1.26.4)\n",
      "Requirement already satisfied: python-dateutil>=2.8.2 in c:\\users\\tever\\appdata\\roaming\\python\\python312\\site-packages (from pandas) (2.9.0.post0)\n",
      "Requirement already satisfied: pytz>=2020.1 in c:\\users\\tever\\appdata\\local\\programs\\python\\python312\\lib\\site-packages (from pandas) (2024.1)\n",
      "Requirement already satisfied: tzdata>=2022.7 in c:\\users\\tever\\appdata\\local\\programs\\python\\python312\\lib\\site-packages (from pandas) (2024.1)\n",
      "Requirement already satisfied: six>=1.5 in c:\\users\\tever\\appdata\\roaming\\python\\python312\\site-packages (from python-dateutil>=2.8.2->pandas) (1.16.0)\n"
     ]
    }
   ],
   "source": [
    "!pip install pandas"
   ]
  },
  {
   "cell_type": "code",
   "execution_count": 8,
   "metadata": {},
   "outputs": [],
   "source": [
    "import pandas as pd\n",
    "import subprocess\n",
    "import time\n",
    "df = pd.read_csv(\"./fp.csv\")\n",
    "# print(df.to_string())"
   ]
  },
  {
   "cell_type": "code",
   "execution_count": 7,
   "metadata": {},
   "outputs": [
    {
     "name": "stdout",
     "output_type": "stream",
     "text": [
      "Enable MPU6050\n",
      "0.1\n"
     ]
    }
   ],
   "source": [
    "def CMD2TASK(cmd):\n",
    "    mapping = dict(zip(df['CMD'], df['TASK']))\n",
    "    return mapping.get(cmd, \"Task not found\")\n",
    "def CMD2CODE(cmd):\n",
    "    mapping = dict(zip(df['CMD'], df['CODE']))\n",
    "    return eval(mapping.get(cmd, \"Code not found\"))\n",
    "def CMD2FREQ(cmd):\n",
    "    mapping = dict(zip(df['CMD'], df['FREQUENCY']))\n",
    "    return mapping.get(cmd, \"Frequency not found\")\n",
    "\n",
    "print(CMD2TASK(\"tc;mpu;1\"))\n",
    "print(CMD2FREQ(\"tm;mpu;2\"))"
   ]
  },
  {
   "cell_type": "markdown",
   "metadata": {},
   "source": [
    "## FSW"
   ]
  },
  {
   "cell_type": "markdown",
   "metadata": {},
   "source": [
    "#### Plan"
   ]
  },
  {
   "cell_type": "code",
   "execution_count": 13,
   "metadata": {},
   "outputs": [
    {
     "ename": "KeyboardInterrupt",
     "evalue": "",
     "output_type": "error",
     "traceback": [
      "\u001b[1;31m---------------------------------------------------------------------------\u001b[0m",
      "\u001b[1;31mKeyboardInterrupt\u001b[0m                         Traceback (most recent call last)",
      "Cell \u001b[1;32mIn[13], line 12\u001b[0m\n\u001b[0;32m     10\u001b[0m \u001b[38;5;28;01mwhile\u001b[39;00m(\u001b[38;5;241m1\u001b[39m):\n\u001b[0;32m     11\u001b[0m     CMD2CODE(\u001b[38;5;124m'\u001b[39m\u001b[38;5;124mtm;mpu;2\u001b[39m\u001b[38;5;124m'\u001b[39m)\n\u001b[1;32m---> 12\u001b[0m     \u001b[43mtime\u001b[49m\u001b[38;5;241;43m.\u001b[39;49m\u001b[43msleep\u001b[49m\u001b[43m(\u001b[49m\u001b[43mCMD2FREQ\u001b[49m\u001b[43m(\u001b[49m\u001b[38;5;124;43m'\u001b[39;49m\u001b[38;5;124;43mtm;gps;2\u001b[39;49m\u001b[38;5;124;43m'\u001b[39;49m\u001b[43m)\u001b[49m\u001b[43m)\u001b[49m\n\u001b[0;32m     15\u001b[0m \u001b[38;5;66;03m# ------------------- #\u001b[39;00m\n\u001b[0;32m     16\u001b[0m \n\u001b[0;32m     17\u001b[0m \u001b[38;5;66;03m# Ground ( Disable )\u001b[39;00m\n\u001b[1;32m   (...)\u001b[0m\n\u001b[0;32m     21\u001b[0m \u001b[38;5;66;03m# CMD2CODE('tc;gps;0') # GPS\u001b[39;00m\n\u001b[0;32m     22\u001b[0m \u001b[38;5;66;03m# ------------------- #\u001b[39;00m\n",
      "\u001b[1;31mKeyboardInterrupt\u001b[0m: "
     ]
    }
   ],
   "source": []
  },
  {
   "cell_type": "markdown",
   "metadata": {},
   "source": [
    "#### TEST1 (AT GROND CONTROL)"
   ]
  },
  {
   "cell_type": "code",
   "execution_count": 12,
   "metadata": {},
   "outputs": [
    {
     "data": {
      "text/plain": [
       "'get lat,lon GPS\\n'"
      ]
     },
     "execution_count": 12,
     "metadata": {},
     "output_type": "execute_result"
    }
   ],
   "source": [
    "# CMD2CODE('tc;mpu;1') #Enable mpu\n",
    "# CMD2CODE('tm;mpu;2') #Get telemetry from mpu\n",
    "\n",
    "# CMD2CODE('tc;gps;1') #Enable GPS\n",
    "# CMD2CODE('tm;gps;2') #Get telemetry from GPS\n",
    "\n",
    "# CMD2CODE('tc;bmp;1') #Enable BMP\n",
    "# CMD2CODE('tm;bmp;2') #Get telemetry from BMP\n",
    "\n",
    "# CMD2CODE('tc;mcp;1') #Enable MCP\n",
    "# CMD2CODE('tm;mcp;2') #Get telemetry from MCP"
   ]
  },
  {
   "cell_type": "markdown",
   "metadata": {},
   "source": [
    "#### TEST2 (AT ROCKET BASE)"
   ]
  },
  {
   "cell_type": "code",
   "execution_count": null,
   "metadata": {},
   "outputs": [],
   "source": []
  },
  {
   "cell_type": "markdown",
   "metadata": {},
   "source": [
    "#### LUNCH"
   ]
  },
  {
   "cell_type": "code",
   "execution_count": null,
   "metadata": {},
   "outputs": [],
   "source": [
    "next_time_mpu = time.time()\n",
    "next_time_bmp = time.time()\n",
    "next_time_mcp = time.time()\n",
    "next_time_gps = time.time()\n",
    "\n",
    "while True:\n",
    "    current_time = time.time()\n",
    "\n",
    "    if current_time >= next_time_mpu:\n",
    "        CMD2CODE('tm;mpu;2')\n",
    "        next_time_mpu = current_time + CMD2FREQ('tm;mpu;2')\n",
    "\n",
    "    if current_time >= next_time_bmp:\n",
    "        CMD2CODE('tm;bmp;2')\n",
    "        next_time_bmp = current_time + CMD2FREQ('tm;bmp;2')\n",
    "\n",
    "    if current_time >= next_time_mcp:\n",
    "        CMD2CODE('tm;mcp;2')\n",
    "        next_time_mcp = current_time + CMD2FREQ('tm;mcp;2')\n",
    "\n",
    "    if current_time >= next_time_gps:\n",
    "        CMD2CODE('tm;gps;2')\n",
    "        next_time_gps = current_time + CMD2FREQ('tm;gps;2')\n",
    "\n",
    "    # Small sleep to avoid busy-waiting\n",
    "    time.sleep(0.01)"
   ]
  },
  {
   "cell_type": "markdown",
   "metadata": {},
   "source": [
    "#### EJECT"
   ]
  },
  {
   "cell_type": "code",
   "execution_count": null,
   "metadata": {},
   "outputs": [],
   "source": []
  },
  {
   "cell_type": "markdown",
   "metadata": {},
   "source": [
    "#### GROUND"
   ]
  },
  {
   "cell_type": "code",
   "execution_count": null,
   "metadata": {},
   "outputs": [],
   "source": []
  }
 ],
 "metadata": {
  "kernelspec": {
   "display_name": "CANSAT_FSW",
   "language": "python",
   "name": "python3"
  },
  "language_info": {
   "codemirror_mode": {
    "name": "ipython",
    "version": 3
   },
   "file_extension": ".py",
   "mimetype": "text/x-python",
   "name": "python",
   "nbconvert_exporter": "python",
   "pygments_lexer": "ipython3",
   "version": "3.12.3"
  }
 },
 "nbformat": 4,
 "nbformat_minor": 2
}
