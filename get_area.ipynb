{
 "cells": [
  {
   "cell_type": "markdown",
   "metadata": {},
   "source": [
    "### note"
   ]
  },
  {
   "cell_type": "code",
   "execution_count": null,
   "metadata": {},
   "outputs": [],
   "source": [
    "#VSTAR CAM\n",
    "#focal length = 2.8 mm\n",
    "#image width = 1920 px\n",
    "#image height = 1080 px\n",
    "#sensor width =4.15 mm\n",
    "#height = 0.72\n",
    "#GSD = 0.056 cm/pixel"
   ]
  },
  {
   "cell_type": "markdown",
   "metadata": {},
   "source": [
    "### Program"
   ]
  },
  {
   "cell_type": "code",
   "execution_count": 52,
   "metadata": {},
   "outputs": [
    {
     "name": "stdout",
     "output_type": "stream",
     "text": [
      "Total area covered: 5493.541881 m² (approximately)\n"
     ]
    }
   ],
   "source": [
    "import math\n",
    "\n",
    "def get_gsd(sensor_width, working_distance, focal_length, image_width):\n",
    "    return (sensor_width * working_distance) / (focal_length * image_width)\n",
    "\n",
    "def get_area(gsd, image_width, image_height, off_nadir_angle):\n",
    "    \"\"\"\n",
    "    Calculates the total area captured by a camera with a given GSD, image resolution, and off-nadir angle.\n",
    "\n",
    "    Args:\n",
    "        gsd: Ground Sampling Distance (e.g., in meters/px).\n",
    "        image_width: Number of pixels in image width.\n",
    "        image_height: Number of pixels in image height.\n",
    "        off_nadir_angle: Off-nadir angle in degrees.\n",
    "\n",
    "    Returns:\n",
    "        Total area captured by the camera (in same units as GSD squared).\n",
    "    \"\"\"\n",
    "\n",
    "    # Convert off-nadir angle to radians\n",
    "    radians = math.radians(off_nadir_angle)\n",
    "    \n",
    "    # Calculate the actual ground distance accounting for the off-nadir angle\n",
    "    gsd_along = gsd / math.cos(radians)\n",
    "    gsd_cross = gsd / math.cos(radians)\n",
    "\n",
    "    # Calculate area per pixel\n",
    "    area_per_pixel = gsd_along * gsd_cross\n",
    "\n",
    "    # Calculate total area covered\n",
    "    total_area = area_per_pixel * image_width * image_height\n",
    "\n",
    "    return total_area\n",
    "\n",
    "# Example usage\n",
    "height = 50  # meter\n",
    "gsd = get_gsd(4.15, height, 2.8, 1080)  # mm/px converted to m/px\n",
    "image_width = 1080\n",
    "image_height = 1080\n",
    "off_nadir_angle = 1\n",
    "\n",
    "total_area = get_area(gsd, image_width, image_height, off_nadir_angle)\n",
    "\n",
    "print(f\"Total area covered: {total_area:.6f} m² (approximately)\")\n"
   ]
  }
 ],
 "metadata": {
  "kernelspec": {
   "display_name": "CANSAT_FSW",
   "language": "python",
   "name": "python3"
  },
  "language_info": {
   "codemirror_mode": {
    "name": "ipython",
    "version": 3
   },
   "file_extension": ".py",
   "mimetype": "text/x-python",
   "name": "python",
   "nbconvert_exporter": "python",
   "pygments_lexer": "ipython3",
   "version": "3.12.2"
  }
 },
 "nbformat": 4,
 "nbformat_minor": 2
}
