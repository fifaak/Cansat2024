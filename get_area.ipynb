{
 "cells": [
  {
   "cell_type": "code",
   "execution_count": null,
   "metadata": {},
   "outputs": [],
   "source": [
    "#VSTAR CAM\n",
    "#focal length = 2.8 mm\n",
    "#image width = 1920 px\n",
    "#image height = 1080 px\n",
    "#sensor width =4.15 mm\n",
    "#height = 0.72\n",
    "#GSD = 0.056 cm/pixel\n",
    "def GET_PIXEL_AREA(image):\n",
    "\n",
    "def GET_AREA_BY_PIXEL(area_pixel):\n",
    "\n",
    "def GET_OPTIMAL_AREA(raw_area):\n",
    "\n",
    "def GET_AREA(image,height,gyro_x,gyro_y,gyro_z): # height (meter)\n",
    "    area_pixel = GET_PIXEL_AREA(image)\n",
    "    ninetydeg_area = GET_AREA_BY_PIXEL(area_pixel)\n",
    "    return GET_OPTIMAL_AREA(ninetydeg_area)"
   ]
  }
 ],
 "metadata": {
  "language_info": {
   "name": "python"
  }
 },
 "nbformat": 4,
 "nbformat_minor": 2
}
